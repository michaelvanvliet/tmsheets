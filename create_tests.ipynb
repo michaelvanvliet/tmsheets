{
 "cells": [
  {
   "cell_type": "code",
   "execution_count": null,
   "metadata": {},
   "outputs": [],
   "source": [
    "import random\n",
    "\n",
    "for s in range(10): # sheets\n",
    "\n",
    "    sheet = \"\"\n",
    "    for t in range(8): # blocks\n",
    "        for x in random.sample(range(1, 11), 5): # x range\n",
    "            row = []\n",
    "            for y in random.sample(range(6, 10), 4): # y range\n",
    "                row.append(\"{:>2} x {:>2} = ___\".format(str(x), str(y))) #, str(x*y).zfill(3)))\n",
    "            sheet = sheet + \"\\t\".join(row) + \"\\n\"        \n",
    "        sheet = sheet + \"\\n\"\n",
    "\n",
    "    print(sheet)\n",
    "        \n",
    "    text_file = open(\"test_{}.txt\".format(s), \"w\")\n",
    "    text_file.write(sheet)\n",
    "    text_file.close()"
   ]
  },
  {
   "cell_type": "code",
   "execution_count": null,
   "metadata": {},
   "outputs": [],
   "source": []
  }
 ],
 "metadata": {
  "kernelspec": {
   "display_name": "Python 3",
   "language": "python",
   "name": "python3"
  },
  "language_info": {
   "codemirror_mode": {
    "name": "ipython",
    "version": 3
   },
   "file_extension": ".py",
   "mimetype": "text/x-python",
   "name": "python",
   "nbconvert_exporter": "python",
   "pygments_lexer": "ipython3",
   "version": "3.7.3"
  }
 },
 "nbformat": 4,
 "nbformat_minor": 4
}
